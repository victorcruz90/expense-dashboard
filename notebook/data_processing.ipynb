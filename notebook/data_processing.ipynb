{
 "metadata": {
  "language_info": {
   "codemirror_mode": {
    "name": "ipython",
    "version": 3
   },
   "file_extension": ".py",
   "mimetype": "text/x-python",
   "name": "python",
   "nbconvert_exporter": "python",
   "pygments_lexer": "ipython3",
   "version": "3.8.5-final"
  },
  "orig_nbformat": 2,
  "kernelspec": {
   "name": "expense",
   "display_name": "Expense"
  }
 },
 "nbformat": 4,
 "nbformat_minor": 2,
 "cells": [
  {
   "cell_type": "code",
   "execution_count": null,
   "metadata": {},
   "outputs": [],
   "source": [
    "import pandas as pd\n",
    "import numpy as np\n",
    "import datetime as dt\n",
    "import plotly"
   ]
  },
  {
   "cell_type": "code",
   "execution_count": null,
   "metadata": {
    "tags": []
   },
   "outputs": [],
   "source": [
    "#Load the datasets\n",
    "df_daily = pd.read_csv('./data/raw/Daily_expense.csv', header=None, names=['date','value','random1','credit_debit','transfer_type','transfer_description','account_balance'])\n",
    "df_pink = pd.read_csv('./data/raw/Pink Classic.csv', header=None, names=['date','value','random1','credit_debit','transfer_type','transfer_description','account_balance'])\n",
    "df_house = pd.read_csv('./data/raw/House_expense.csv', header=None, names=['date','value','random1','credit_debit','transfer_type','transfer_description','account_balance'])\n",
    "# df_pink.dropna()\n",
    "# df_daily.dropna()"
   ]
  },
  {
   "cell_type": "code",
   "execution_count": null,
   "metadata": {
    "tags": []
   },
   "outputs": [],
   "source": [
    "#Delete random1 columns. There is no significant data.\n",
    "df_daily = df_daily.drop('random1', axis=1)\n",
    "df_house = df_house.drop('random1', axis=1)\n",
    "df_pink = df_pink.drop('random1', axis=1)"
   ]
  },
  {
   "cell_type": "code",
   "execution_count": null,
   "metadata": {},
   "outputs": [],
   "source": [
    "#Fill the credit_debit column with \"credit\" for positive value and \"debit\" for negative value\n",
    "df_daily.credit_debit = np.where(df_daily.value >= 0, 'Credit', 'Debit')\n",
    "df_house.credit_debit = np.where(df_house.value >= 0, 'Credit', 'Debit')\n",
    "df_pink.credit_debit = np.where(df_pink.value >= 0, 'Credit', 'Debit')"
   ]
  },
  {
   "cell_type": "code",
   "execution_count": null,
   "metadata": {},
   "outputs": [],
   "source": [
    "#Add account column\n",
    "df_daily['account'] = 'Victor'\n",
    "df_house['account'] = 'House'\n",
    "df_pink['account'] = 'Rebecca'"
   ]
  },
  {
   "cell_type": "code",
   "execution_count": null,
   "metadata": {},
   "outputs": [],
   "source": [
    "#concatenate all the dataframes\n",
    "df_final = pd.concat([df_daily, df_house,df_pink], ignore_index=True)\n",
    "df_final = df_final.sort_values(by='date', ascending=False)"
   ]
  },
  {
   "cell_type": "code",
   "execution_count": null,
   "metadata": {},
   "outputs": [],
   "source": [
    "df_final.to_csv('./data/processed/final.csv', index=False)"
   ]
  }
 ]
}